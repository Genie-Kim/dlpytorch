{
 "cells": [
  {
   "cell_type": "code",
   "execution_count": 1,
   "metadata": {},
   "outputs": [
    {
     "name": "stdout",
     "output_type": "stream",
     "text": [
      "0.5.0a0+4251e38\n"
     ]
    }
   ],
   "source": [
    "import torch\n",
    "print(torch.__version__)"
   ]
  },
  {
   "cell_type": "code",
   "execution_count": 2,
   "metadata": {},
   "outputs": [
    {
     "name": "stdout",
     "output_type": "stream",
     "text": [
      "Tensor x  torch.FloatTensor torch.Size([2, 3])\n",
      "tensor([[ 0.2900,  0.9794,  0.6998],\n",
      "        [ 0.6826,  0.4490,  0.6558]])\n",
      "-----------\n",
      "Tensor y  torch.FloatTensor torch.Size([2, 3])\n",
      "tensor([[ 0.,  0.,  0.],\n",
      "        [ 0.,  0.,  0.]])\n"
     ]
    }
   ],
   "source": [
    "x = torch.rand(2,3)\n",
    "y = torch.zeros(2,3)\n",
    "print('Tensor x ',x.type(), x.size())\n",
    "print(x)\n",
    "print('-----------')\n",
    "print('Tensor y ',y.type(), y.size())\n",
    "print(y)"
   ]
  },
  {
   "cell_type": "code",
   "execution_count": 3,
   "metadata": {},
   "outputs": [
    {
     "name": "stdout",
     "output_type": "stream",
     "text": [
      "torch.LongTensor torch.Size([2, 3])\n",
      "tensor([[ 1,  2,  3],\n",
      "        [ 4,  5,  6]])\n"
     ]
    }
   ],
   "source": [
    "import numpy as np\n",
    "x1 = np.ndarray(shape=(2,3), dtype=int,buffer=np.array([1,2,3,4,5,6]))\n",
    "x2 = torch.from_numpy(x1)\n",
    "print(x2.type(),x2.size())\n",
    "print(x2)"
   ]
  },
  {
   "cell_type": "code",
   "execution_count": 4,
   "metadata": {},
   "outputs": [
    {
     "name": "stdout",
     "output_type": "stream",
     "text": [
      "int64 (2, 3)\n",
      "[[1 2 3]\n",
      " [4 5 6]]\n"
     ]
    }
   ],
   "source": [
    "x3 = x2.numpy()\n",
    "print(x3.dtype,x3.shape)\n",
    "print(x3)"
   ]
  },
  {
   "cell_type": "code",
   "execution_count": 5,
   "metadata": {},
   "outputs": [
    {
     "name": "stdout",
     "output_type": "stream",
     "text": [
      "x= tensor([[ 0.8271,  0.9153,  0.1823],\n",
      "        [ 0.3718,  0.5318,  0.0101]])\n",
      "out1= tensor([[ 0.8271,  0.9153],\n",
      "        [ 0.3718,  0.5318]])\n",
      "out2= tensor([[ 0.8271,  0.9153],\n",
      "        [ 0.3718,  0.5318]])\n"
     ]
    }
   ],
   "source": [
    "#Indexing and Slicing\n",
    "# torch.index_select(input, dim, index)\n",
    "\n",
    "x = torch.rand(2,3)\n",
    "out1 = torch.index_select(x,1,torch.LongTensor([0,1]))\n",
    "out2 = x[:,0:2]\n",
    "print('x=',x)\n",
    "print('out1=',out1)\n",
    "print('out2=',out2)"
   ]
  },
  {
   "cell_type": "markdown",
   "metadata": {},
   "source": [
    "# Math"
   ]
  },
  {
   "cell_type": "code",
   "execution_count": 6,
   "metadata": {},
   "outputs": [
    {
     "name": "stdout",
     "output_type": "stream",
     "text": [
      "add op tensor([[  2.,   4.],\n",
      "        [  8.,  10.]])\n",
      "direct add tensor([[  2.,   4.],\n",
      "        [  8.,  10.]])\n",
      "eigen values (tensor([[ 0.0000e+00,  0.0000e+00],\n",
      "        [-6.5430e+16,  0.0000e+00],\n",
      "        [-2.7031e+15,  0.0000e+00],\n",
      "        [ 0.0000e+00,  0.0000e+00]]), tensor([]))\n"
     ]
    }
   ],
   "source": [
    "x1 = torch.FloatTensor([[1,2],[4,5]])\n",
    "x2 = torch.FloatTensor([[1,2],[4,5]])\n",
    "add = torch.add(x1,x2)\n",
    "print('add op',add)\n",
    "print('direct add',x1+x2)\n",
    "\n",
    "x3 = torch.FloatTensor(4,4)\n",
    "eigen_value = torch.eig(x3) # torch.eig(a,eigenvectors=False) -> eigen_value, eigen_vector\n",
    "print(\"eigen values\",eigen_value)"
   ]
  },
  {
   "cell_type": "markdown",
   "metadata": {},
   "source": [
    "# AutoGrad"
   ]
  },
  {
   "cell_type": "code",
   "execution_count": 7,
   "metadata": {},
   "outputs": [
    {
     "name": "stdout",
     "output_type": "stream",
     "text": [
      "default value for 'requires_grad' = False\n",
      "After manually setting it to true = True\n"
     ]
    }
   ],
   "source": [
    "import torch\n",
    "from torch.autograd import Variable\n",
    "x_tensor = torch.Tensor(3,4)\n",
    "x_variable = Variable(x_tensor)\n",
    "print(\"default value for 'requires_grad' =\", x_variable.requires_grad)\n",
    "x_variable = Variable(x_tensor,requires_grad=True)\n",
    "print(\"After manually setting it to true =\",x_variable.requires_grad)"
   ]
  },
  {
   "cell_type": "code",
   "execution_count": 8,
   "metadata": {},
   "outputs": [
    {
     "name": "stdout",
     "output_type": "stream",
     "text": [
      "True True True\n"
     ]
    }
   ],
   "source": [
    "x = Variable(torch.FloatTensor(3,4),requires_grad=True)\n",
    "y = 3*x +1\n",
    "z = 2*y +3\n",
    "\n",
    "print(x.requires_grad,y.requires_grad,z.requires_grad)"
   ]
  },
  {
   "cell_type": "code",
   "execution_count": 9,
   "metadata": {},
   "outputs": [
    {
     "name": "stdout",
     "output_type": "stream",
     "text": [
      "tensor([[-3.9105e+17,  2.7383e-40, -3.9105e+17,  2.7383e-40],\n",
      "        [ 0.0000e+00,  0.0000e+00,  0.0000e+00,  0.0000e+00],\n",
      "        [ 0.0000e+00,  0.0000e+00,  0.0000e+00,  0.0000e+00]])\n"
     ]
    },
    {
     "data": {
      "text/plain": [
       "(None, None)"
      ]
     },
     "execution_count": 9,
     "metadata": {},
     "output_type": "execute_result"
    }
   ],
   "source": [
    "gradient = torch.FloatTensor(3,4)\n",
    "z.backward(gradient)\n",
    "\n",
    "print(x.grad)\n",
    "y.grad,z.grad"
   ]
  },
  {
   "cell_type": "markdown",
   "metadata": {},
   "source": [
    "# Linear Regression"
   ]
  },
  {
   "cell_type": "code",
   "execution_count": 10,
   "metadata": {},
   "outputs": [],
   "source": [
    "# Reading data\n",
    "import pandas\n",
    "dataset=pandas.read_csv('datasets/linear_dataset.csv')\n",
    "x=np.expand_dims(dataset.values[:,0].astype(np.float32),axis=1)\n",
    "y=np.expand_dims(dataset.values[:,1].astype(np.float32),axis=1)\n",
    "xt=torch.from_numpy(x)\n",
    "yt=torch.from_numpy(y)"
   ]
  },
  {
   "cell_type": "code",
   "execution_count": 11,
   "metadata": {},
   "outputs": [],
   "source": [
    "# imports\n",
    "import numpy as np\n",
    "import torch\n",
    "import torch.nn as nn\n",
    "import torch.optim as optim\n",
    "import torch.nn.init as init\n",
    "from torch.autograd import Variable"
   ]
  },
  {
   "cell_type": "code",
   "execution_count": 12,
   "metadata": {},
   "outputs": [],
   "source": [
    "# Model definition\n",
    "model = nn.Linear(1,1)\n",
    "output = model(Variable(xt))\n",
    "loss_func = nn.L1Loss()\n",
    "optimizer = optim.SGD(model.parameters(),lr=0.001)"
   ]
  },
  {
   "cell_type": "code",
   "execution_count": 13,
   "metadata": {},
   "outputs": [
    {
     "name": "stdout",
     "output_type": "stream",
     "text": [
      "tensor(5.7759)\n",
      "tensor(0.3554)\n",
      "tensor(0.3380)\n",
      "tensor(0.3214)\n",
      "tensor(0.3038)\n",
      "tensor(0.2886)\n",
      "tensor(0.2702)\n",
      "tensor(0.2630)\n",
      "tensor(0.2482)\n",
      "tensor(0.2211)\n"
     ]
    }
   ],
   "source": [
    "# training\n",
    "loss_arr =[]\n",
    "label = Variable(yt)\n",
    "for i in range(1000): #number of epoches\n",
    "    output = model(Variable(xt))\n",
    "    optimizer.zero_grad()\n",
    "\n",
    "    loss = loss_func(output,label)\n",
    "    loss.backward()\n",
    "    optimizer.step()\n",
    "    if i % 100 == 0:\n",
    "        print(loss)\n",
    "    loss_arr.append(loss.data.numpy().tolist())"
   ]
  },
  {
   "cell_type": "code",
   "execution_count": 15,
   "metadata": {},
   "outputs": [
    {
     "data": {
      "image/png": "[encoded data removed]",
      "text/plain": [
       "<matplotlib.figure.Figure at 0x7f39d65df358>"
      ]
     },
     "metadata": {},
     "output_type": "display_data"
    }
   ],
   "source": [
    "# plot the fitted model y=mx+c\n",
    "%matplotlib inline\n",
    "param_list = list(model.parameters())\n",
    "m,c=param_list[0].data.numpy().tolist(),param_list[1].data.numpy().tolist()\n",
    "\n",
    "import matplotlib.pyplot as plt\n",
    "plt.plot( m * x + c, label='Fitted line')\n",
    "plt.plot(y, 'ro', label='Data')\n",
    "plt.legend()\n",
    "plt.show()"
   ]
  }
 ],
 "metadata": {
  "kernelspec": {
   "display_name": "Python 3",
   "language": "python",
   "name": "python3"
  },
  "language_info": {
   "codemirror_mode": {
    "name": "ipython",
    "version": 3
   },
   "file_extension": ".py",
   "mimetype": "text/x-python",
   "name": "python",
   "nbconvert_exporter": "python",
   "pygments_lexer": "ipython3",
   "version": "3.6.4"
  }
 },
 "nbformat": 4,
 "nbformat_minor": 2
}
