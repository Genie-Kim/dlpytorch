{
 "cells": [
  {
   "cell_type": "markdown",
   "metadata": {},
   "source": [
    "# MNIST Dataset Introduction\n",
    "A dataset of handwritten digits. The dataset contains 60,000 examples for training and 10,000 examples for testing. The digits have been size-normalized and centered in a fixed-size image (28x28 pixels) with values from 0 to 1.\n",
    "![MNIST](imgs/mnist.png)"
   ]
  },
  {
   "cell_type": "code",
   "execution_count": 1,
   "metadata": {},
   "outputs": [],
   "source": [
    "import numpy as np\n",
    "import torch\n",
    "import torch.nn as nn\n",
    "import torch.utils as utils\n",
    "from torch.autograd import Variable\n",
    "import torchvision.datasets as datasets\n",
    "import torchvision.transforms as transforms"
   ]
  },
  {
   "cell_type": "code",
   "execution_count": 4,
   "metadata": {},
   "outputs": [],
   "source": [
    "#The dataset is downloaded for you. this will transform it into PyTorch tensors\n",
    "mnist_train = datasets.MNIST(\"/var/local/mnist\", train=True, transform=transforms.ToTensor(), download=False)\n",
    "mnist_test = datasets.MNIST(\"/var/local/mnist\", train=False, transform=transforms.ToTensor(), download=False)\n",
    "def to_categorical(y):\n",
    "    # 1-hot encodes a tensor \n",
    "    return torch.from_numpy(np.eye(10, dtype='float32')[y])"
   ]
  },
  {
   "cell_type": "markdown",
   "metadata": {},
   "source": [
    "# Simple Neural Network\n",
    "![NN](imgs/nn.jpeg)"
   ]
  },
  {
   "cell_type": "code",
   "execution_count": 92,
   "metadata": {},
   "outputs": [],
   "source": [
    "# Set Data Loader(input pipeline)\n",
    "train_loader = torch.utils.data.DataLoader(dataset=mnist_train,batch_size=16,shuffle=True)\n",
    "test_loader = torch.utils.data.DataLoader(dataset=mnist_test,batch_size=16,shuffle=True)\n",
    "\n",
    "# create the model\n",
    "model = torch.nn.Sequential(\n",
    "    torch.nn.Linear(28*28, 32),\n",
    "    torch.nn.ReLU(),\n",
    "    torch.nn.Linear(32,16),\n",
    "    torch.nn.ReLU(),\n",
    "    torch.nn.Linear(16,10)\n",
    ")\n",
    "loss_func = nn.MultiLabelSoftMarginLoss()\n",
    "optimizer = torch.optim.Adam(model.parameters())"
   ]
  },
  {
   "cell_type": "code",
   "execution_count": 90,
   "metadata": {},
   "outputs": [
    {
     "name": "stdout",
     "output_type": "stream",
     "text": [
      "0.6801751852035522\n",
      "0.11195375770330429\n",
      "0.1046844869852066\n",
      "0.20801544189453125\n",
      "0.06674367934465408\n",
      "0.099596306681633\n",
      "0.07238338887691498\n",
      "0.04316641017794609\n"
     ]
    }
   ],
   "source": [
    "# Train the model\n",
    "loss_arr=[]\n",
    "for i in range(1):\n",
    "    for j,[image,label] in enumerate(train_loader):\n",
    "        image = Variable(image.view(-1,1,28*28))\n",
    "        label = Variable(to_categorical(label).view(-1,1,10))\n",
    "        optimizer.zero_grad()\n",
    "        prediction = model.forward(image)\n",
    "        loss = loss_func(prediction,label)\n",
    "        loss.backward()\n",
    "        optimizer.step()\n",
    "        loss_arr.append(loss.data.tolist())\n",
    "        if j % 500 == 0:\n",
    "            print(loss.data.tolist())"
   ]
  },
  {
   "cell_type": "code",
   "execution_count": 91,
   "metadata": {},
   "outputs": [
    {
     "data": {
      "image/png": "[encoded data removed]",
      "text/plain": [
       "<matplotlib.figure.Figure at 0x7f28814bccc0>"
      ]
     },
     "metadata": {},
     "output_type": "display_data"
    },
    {
     "name": "stdout",
     "output_type": "stream",
     "text": [
      "Accuracy on the test data: 0.932\n"
     ]
    }
   ],
   "source": [
    "# Plot the training loss curve\n",
    "import matplotlib.pyplot as plt\n",
    "%matplotlib inline\n",
    "plt.plot(np.arange(len(loss_arr)), loss_arr, label='Loss')\n",
    "plt.legend()\n",
    "plt.show()\n",
    "\n",
    "# Calculate the accuracy\n",
    "model.eval()\n",
    "correct = 0\n",
    "total = 0\n",
    "\n",
    "for image,label in test_loader:\n",
    "    image = Variable(image.view(-1,1,28*28))\n",
    "    result = model(image)\n",
    "    pred = torch.argmax(result.data,2).view(-1) \n",
    "    total += label.size(0)\n",
    "    correct += (pred == label).sum().numpy()\n",
    "print(\"Accuracy on the test data: {}\".format(correct/total))"
   ]
  },
  {
   "cell_type": "code",
   "execution_count": null,
   "metadata": {},
   "outputs": [],
   "source": []
  }
 ],
 "metadata": {
  "kernelspec": {
   "display_name": "Python 3",
   "language": "python",
   "name": "python3"
  },
  "language_info": {
   "codemirror_mode": {
    "name": "ipython",
    "version": 3
   },
   "file_extension": ".py",
   "mimetype": "text/x-python",
   "name": "python",
   "nbconvert_exporter": "python",
   "pygments_lexer": "ipython3",
   "version": "3.6.4"
  }
 },
 "nbformat": 4,
 "nbformat_minor": 2
}
